{
 "cells": [
  {
   "cell_type": "markdown",
   "id": "c3d37c34",
   "metadata": {},
   "source": [
    "# Import bepipred3 and intialize antigen object"
   ]
  },
  {
   "cell_type": "code",
   "execution_count": 1,
   "id": "dc03a417",
   "metadata": {},
   "outputs": [
    {
     "name": "stdout",
     "output_type": "stream",
     "text": [
      "GPU device detected: cuda\n",
      "Directory for esm encodings already there. Saving encodings there.\n",
      "Number of sequences detected in fasta file: 16\n",
      "ESM-2 encoding sequences. Saving encodings to C:\\Users\\Joaki\\Desktop\\PhD\\BepiPred3\\BP3_pip_and_github\\GithubRepo\\BepiPred3.0-Predictor\\esm2_encodings\n",
      "ESM-2 encoded sequence 7lj4_B 1/16\n",
      "ESM-2 encoded sequence 4xak_A 2/16\n",
      "ESM-2 encoded sequence 4ypg_D 3/16\n",
      "ESM-2 encoded sequence 7chz_I 4/16\n",
      "ESM-2 encoded sequence 5d8j_A 5/16\n",
      "ESM-2 encoded sequence 3pnw_O 6/16\n",
      "ESM-2 encoded sequence 6y6c_A 7/16\n",
      "ESM-2 encoded sequence 5f72_K 8/16\n",
      "ESM-2 encoded sequence 6u6u_R 9/16\n",
      "ESM-2 encoded sequence 4qci_D 10/16\n",
      "ESM-2 encoded sequence 7jum_A 11/16\n",
      "ESM-2 encoded sequence 5th9_A 12/16\n",
      "ESM-2 encoded sequence 6hga_B 13/16\n",
      "ESM-2 encoded sequence 2xwt_C 14/16\n",
      "ESM-2 encoded sequence 6vtw_A 15/16\n",
      "ESM-2 encoded sequence HECAM 16/16\n",
      "dict_keys(['esm_encoding_dir', 'run_esm_model_local', 'accs', 'seqs', 'add_seq_len', 'esm_encoding_paths', 'ensemble_preds', 'ensemble_probs'])\n"
     ]
    }
   ],
   "source": [
    "from bp3 import bepipred3\n",
    "from pathlib import Path\n",
    "\n",
    "MyAntigens = bepipred3.Antigens(Path.cwd() / \"example_antigens\" / \"example_antigens.fasta\", Path.cwd() / \"esm2_encodings\", add_seq_len=True)\n",
    "print(MyAntigens.__dict__.keys())"
   ]
  },
  {
   "cell_type": "markdown",
   "id": "0b090dbe",
   "metadata": {},
   "source": [
    "# Intialize BP3 predictor"
   ]
  },
  {
   "cell_type": "code",
   "execution_count": 9,
   "id": "f4dbbe1d",
   "metadata": {},
   "outputs": [],
   "source": [
    "#MyAntigens.esm2_encodings\n",
    "MyBP3EnsemblePredict = bepipred3.BP3EnsemblePredict(MyAntigens)"
   ]
  },
  {
   "cell_type": "markdown",
   "id": "fd605124",
   "metadata": {},
   "source": [
    "# Run ensemble model on antigen object"
   ]
  },
  {
   "cell_type": "code",
   "execution_count": 10,
   "id": "d7efe236",
   "metadata": {},
   "outputs": [
    {
     "name": "stdout",
     "output_type": "stream",
     "text": [
      "Generating BepiPred-3.0 scores\n"
     ]
    }
   ],
   "source": [
    "MyBP3EnsemblePredict.run_bp3_ensemble()"
   ]
  },
  {
   "cell_type": "markdown",
   "id": "4a5c9550",
   "metadata": {},
   "source": [
    "# Models scores in .csv format"
   ]
  },
  {
   "cell_type": "code",
   "execution_count": 11,
   "id": "932b4137",
   "metadata": {},
   "outputs": [
    {
     "name": "stdout",
     "output_type": "stream",
     "text": [
      "Directory B-cell epitope predictions already there. Saving results there.\n"
     ]
    }
   ],
   "source": [
    "out_dir = Path.cwd() / \"example_output\"\n",
    "MyBP3EnsemblePredict.create_csvfile(out_dir)"
   ]
  },
  {
   "cell_type": "markdown",
   "id": "49630deb",
   "metadata": {},
   "source": [
    "#  Top percentage epitope candidates"
   ]
  },
  {
   "cell_type": "code",
   "execution_count": 12,
   "id": "d43c0b02",
   "metadata": {},
   "outputs": [
    {
     "name": "stdout",
     "output_type": "stream",
     "text": [
      "Directory B-cell epitope predictions already there. Saving results there.\n",
      "C:\\Users\\Joaki\\Desktop\\PhD\\BepiPred3\\BP3_pip_and_github\\GithubRepo\\BepiPred3.0-Predictor\\example_output\\top10\\Bcell_epitope_top_10pct_preds.fasta\n",
      "C:\\Users\\Joaki\\Desktop\\PhD\\BepiPred3\\BP3_pip_and_github\\GithubRepo\\BepiPred3.0-Predictor\\example_output\\top10\\Bcell_linepitope_top_10pct_preds.fasta\n",
      "Directory B-cell epitope predictions already there. Saving results there.\n",
      "C:\\Users\\Joaki\\Desktop\\PhD\\BepiPred3\\BP3_pip_and_github\\GithubRepo\\BepiPred3.0-Predictor\\example_output\\top30\\Bcell_epitope_top_30pct_preds.fasta\n",
      "C:\\Users\\Joaki\\Desktop\\PhD\\BepiPred3\\BP3_pip_and_github\\GithubRepo\\BepiPred3.0-Predictor\\example_output\\top30\\Bcell_linepitope_top_30pct_preds.fasta\n",
      "Directory B-cell epitope predictions already there. Saving results there.\n",
      "C:\\Users\\Joaki\\Desktop\\PhD\\BepiPred3\\BP3_pip_and_github\\GithubRepo\\BepiPred3.0-Predictor\\example_output\\top50\\Bcell_epitope_top_50pct_preds.fasta\n",
      "C:\\Users\\Joaki\\Desktop\\PhD\\BepiPred3\\BP3_pip_and_github\\GithubRepo\\BepiPred3.0-Predictor\\example_output\\top50\\Bcell_linepitope_top_50pct_preds.fasta\n",
      "Directory B-cell epitope predictions already there. Saving results there.\n",
      "C:\\Users\\Joaki\\Desktop\\PhD\\BepiPred3\\BP3_pip_and_github\\GithubRepo\\BepiPred3.0-Predictor\\example_output\\top70\\Bcell_epitope_top_70pct_preds.fasta\n",
      "C:\\Users\\Joaki\\Desktop\\PhD\\BepiPred3\\BP3_pip_and_github\\GithubRepo\\BepiPred3.0-Predictor\\example_output\\top70\\Bcell_linepitope_top_70pct_preds.fasta\n",
      "Directory B-cell epitope predictions already there. Saving results there.\n",
      "C:\\Users\\Joaki\\Desktop\\PhD\\BepiPred3\\BP3_pip_and_github\\GithubRepo\\BepiPred3.0-Predictor\\example_output\\top90\\Bcell_epitope_top_90pct_preds.fasta\n",
      "C:\\Users\\Joaki\\Desktop\\PhD\\BepiPred3\\BP3_pip_and_github\\GithubRepo\\BepiPred3.0-Predictor\\example_output\\top90\\Bcell_linepitope_top_90pct_preds.fasta\n"
     ]
    }
   ],
   "source": [
    "#top 10, 30 (default), 50, 70 and 90 % epitope predictions\n",
    "top_pcts = (0.1, 0.3, 0.5, 0.7, 0.9)\n",
    "for top_pct in top_pcts:\n",
    "    MyBP3EnsemblePredict.top_pred_pct = top_pct\n",
    "    pct_dir = Path.cwd() / \"example_output\" / f\"top{round(top_pct*100)}\"\n",
    "    MyBP3EnsemblePredict.create_toppct_files(pct_dir)\n",
    "    for f in pct_dir.glob(\"*.fasta\"): print(str(f)) "
   ]
  },
  {
   "cell_type": "markdown",
   "id": "5a89556d",
   "metadata": {},
   "source": [
    "# Majorty vote and variable threshold prediction"
   ]
  },
  {
   "cell_type": "code",
   "execution_count": 13,
   "id": "7f826515",
   "metadata": {},
   "outputs": [
    {
     "name": "stdout",
     "output_type": "stream",
     "text": [
      "Directory B-cell epitope predictions already there. Saving results there.\n",
      "Directory B-cell epitope predictions already there. Saving results there.\n"
     ]
    }
   ],
   "source": [
    "#majority vote prediction of BepiPred-3.0 models \n",
    "MyBP3EnsemblePredict.bp3_pred_majority_vote(Path.cwd() / \"example_output\" / \"mjv_voting\")\n",
    "#variable threshold (BepiPred-3.0 score >= 0.2)\n",
    "MyBP3EnsemblePredict.bp3_pred_variable_threshold(Path.cwd() / \"example_output\" / \"var_thresh\", var_threshold=0.2)"
   ]
  },
  {
   "cell_type": "markdown",
   "id": "e5121b1c",
   "metadata": {},
   "source": [
    "# Creating interactive figures"
   ]
  },
  {
   "cell_type": "code",
   "execution_count": 14,
   "id": "b435fbec",
   "metadata": {},
   "outputs": [
    {
     "name": "stdout",
     "output_type": "stream",
     "text": [
      "Directory for saving plots already there. Saving results there.\n",
      "Creating figures\n",
      "Directory for saving plots already there. Saving results there.\n",
      "Creating figures\n"
     ]
    }
   ],
   "source": [
    "#create figures with BepiPred-3.0 scoring\n",
    "MyBP3EnsemblePredict.bp3_generate_plots(Path.cwd() / \"example_output\" / \"bp3_score_bplots\", num_interactive_figs=50)\n",
    "#create figures using rolling mean score (linear epitope scoring)\n",
    "MyBP3EnsemblePredict.bp3_generate_plots(Path.cwd() / \"example_output\" / \"bp3_linscore_bplots\", num_interactive_figs=50, use_rolling_mean=True)"
   ]
  },
  {
   "cell_type": "code",
   "execution_count": null,
   "id": "957d4984",
   "metadata": {},
   "outputs": [],
   "source": []
  }
 ],
 "metadata": {
  "kernelspec": {
   "display_name": "Python 3 (ipykernel)",
   "language": "python",
   "name": "python3"
  },
  "language_info": {
   "codemirror_mode": {
    "name": "ipython",
    "version": 3
   },
   "file_extension": ".py",
   "mimetype": "text/x-python",
   "name": "python",
   "nbconvert_exporter": "python",
   "pygments_lexer": "ipython3",
   "version": "3.8.16"
  }
 },
 "nbformat": 4,
 "nbformat_minor": 5
}
